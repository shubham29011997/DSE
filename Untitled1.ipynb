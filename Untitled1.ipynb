{
 "cells": [
  {
   "cell_type": "code",
   "execution_count": 25,
   "id": "b17d2f1d",
   "metadata": {},
   "outputs": [
    {
     "name": "stdout",
     "output_type": "stream",
     "text": [
      "Requirement already satisfied: requests in c:\\users\\dell\\anaconda3\\lib\\site-packages (2.27.1)\n",
      "Requirement already satisfied: idna<4,>=2.5 in c:\\users\\dell\\anaconda3\\lib\\site-packages (from requests) (3.3)\n",
      "Requirement already satisfied: charset-normalizer~=2.0.0 in c:\\users\\dell\\anaconda3\\lib\\site-packages (from requests) (2.0.4)\n",
      "Requirement already satisfied: certifi>=2017.4.17 in c:\\users\\dell\\anaconda3\\lib\\site-packages (from requests) (2021.10.8)\n",
      "Requirement already satisfied: urllib3<1.27,>=1.21.1 in c:\\users\\dell\\anaconda3\\lib\\site-packages (from requests) (1.26.9)\n",
      "Requirement already satisfied: tabulate in c:\\users\\dell\\anaconda3\\lib\\site-packages (0.8.9)\n",
      "Requirement already satisfied: future in c:\\users\\dell\\anaconda3\\lib\\site-packages (0.18.2)\n"
     ]
    }
   ],
   "source": [
    "!pip install requests\n",
    "!pip install tabulate\n",
    "!pip install future"
   ]
  },
  {
   "cell_type": "code",
   "execution_count": 4,
   "id": "58580a25",
   "metadata": {},
   "outputs": [
    {
     "name": "stdout",
     "output_type": "stream",
     "text": [
      "Looking in links: http://h2o-release.s3.amazonaws.com/h2o/latest_stable_Py.html\n",
      "Requirement already satisfied: h2o in c:\\users\\dell\\anaconda3\\lib\\site-packages (3.36.1.4)\n",
      "Requirement already satisfied: future in c:\\users\\dell\\anaconda3\\lib\\site-packages (from h2o) (0.18.2)\n",
      "Requirement already satisfied: tabulate in c:\\users\\dell\\anaconda3\\lib\\site-packages (from h2o) (0.8.9)\n",
      "Requirement already satisfied: requests in c:\\users\\dell\\anaconda3\\lib\\site-packages (from h2o) (2.27.1)\n",
      "Requirement already satisfied: certifi>=2017.4.17 in c:\\users\\dell\\anaconda3\\lib\\site-packages (from requests->h2o) (2021.10.8)\n",
      "Requirement already satisfied: charset-normalizer~=2.0.0 in c:\\users\\dell\\anaconda3\\lib\\site-packages (from requests->h2o) (2.0.4)\n",
      "Requirement already satisfied: urllib3<1.27,>=1.21.1 in c:\\users\\dell\\anaconda3\\lib\\site-packages (from requests->h2o) (1.26.9)\n",
      "Requirement already satisfied: idna<4,>=2.5 in c:\\users\\dell\\anaconda3\\lib\\site-packages (from requests->h2o) (3.3)\n"
     ]
    }
   ],
   "source": [
    "!pip install -f http://h2o-release.s3.amazonaws.com/h2o/latest_stable_Py.html h2o"
   ]
  },
  {
   "cell_type": "code",
   "execution_count": 6,
   "id": "c45fb6a8",
   "metadata": {},
   "outputs": [
    {
     "name": "stdout",
     "output_type": "stream",
     "text": [
      "Collecting install-jdk\n",
      "  Downloading install-jdk-0.3.0.tar.gz (3.8 kB)\n",
      "Building wheels for collected packages: install-jdk\n",
      "  Building wheel for install-jdk (setup.py): started\n",
      "  Building wheel for install-jdk (setup.py): finished with status 'done'\n",
      "  Created wheel for install-jdk: filename=install_jdk-0.3.0-py3-none-any.whl size=3741 sha256=01d19678373cf75abcc3692e31a35a9597485cdcf2fd19a3aaf2762898aa0cc3\n",
      "  Stored in directory: c:\\users\\dell\\appdata\\local\\pip\\cache\\wheels\\6d\\c1\\df\\0ced68ba61c8fd2dc97c5f8cc636ee8d8da444b23cce70c6f4\n",
      "Successfully built install-jdk\n",
      "Installing collected packages: install-jdk\n",
      "Successfully installed install-jdk-0.3.0\n"
     ]
    }
   ],
   "source": [
    " !pip install install-jdk"
   ]
  },
  {
   "cell_type": "code",
   "execution_count": 8,
   "id": "4257a228",
   "metadata": {
    "scrolled": true
   },
   "outputs": [],
   "source": [
    "import h2o\n"
   ]
  },
  {
   "cell_type": "code",
   "execution_count": 10,
   "id": "62e66126",
   "metadata": {},
   "outputs": [
    {
     "name": "stdout",
     "output_type": "stream",
     "text": [
      "Checking whether there is an H2O instance running at http://localhost:54321 ..... not found.\n",
      "Attempting to start a local H2O server...\n",
      "; Java HotSpot(TM) 64-Bit Server VM (build 18.0.2+9-61, mixed mode, sharing)\n",
      "  Starting server from C:\\Users\\DELL\\anaconda3\\Lib\\site-packages\\h2o\\backend\\bin\\h2o.jar\n",
      "  Ice root: C:\\Users\\DELL\\AppData\\Local\\Temp\\tmp9svxnw1f\n",
      "  JVM stdout: C:\\Users\\DELL\\AppData\\Local\\Temp\\tmp9svxnw1f\\h2o_DELL_started_from_python.out\n",
      "  JVM stderr: C:\\Users\\DELL\\AppData\\Local\\Temp\\tmp9svxnw1f\\h2o_DELL_started_from_python.err\n",
      "  Server is running at http://127.0.0.1:54321\n",
      "Connecting to H2O server at http://127.0.0.1:54321 ... successful.\n"
     ]
    },
    {
     "data": {
      "text/html": [
       "<div style=\"overflow:auto\"><table style=\"width:50%\"><tr><td>H2O_cluster_uptime:</td>\n",
       "<td>02 secs</td></tr>\n",
       "<tr><td>H2O_cluster_timezone:</td>\n",
       "<td>Asia/Kolkata</td></tr>\n",
       "<tr><td>H2O_data_parsing_timezone:</td>\n",
       "<td>UTC</td></tr>\n",
       "<tr><td>H2O_cluster_version:</td>\n",
       "<td>3.36.1.4</td></tr>\n",
       "<tr><td>H2O_cluster_version_age:</td>\n",
       "<td>6 days </td></tr>\n",
       "<tr><td>H2O_cluster_name:</td>\n",
       "<td>H2O_from_python_DELL_ctit6l</td></tr>\n",
       "<tr><td>H2O_cluster_total_nodes:</td>\n",
       "<td>1</td></tr>\n",
       "<tr><td>H2O_cluster_free_memory:</td>\n",
       "<td>1.973 Gb</td></tr>\n",
       "<tr><td>H2O_cluster_total_cores:</td>\n",
       "<td>4</td></tr>\n",
       "<tr><td>H2O_cluster_allowed_cores:</td>\n",
       "<td>4</td></tr>\n",
       "<tr><td>H2O_cluster_status:</td>\n",
       "<td>locked, healthy</td></tr>\n",
       "<tr><td>H2O_connection_url:</td>\n",
       "<td>http://127.0.0.1:54321</td></tr>\n",
       "<tr><td>H2O_connection_proxy:</td>\n",
       "<td>{\"http\": null, \"https\": null}</td></tr>\n",
       "<tr><td>H2O_internal_security:</td>\n",
       "<td>False</td></tr>\n",
       "<tr><td>Python_version:</td>\n",
       "<td>3.9.12 final</td></tr></table></div>"
      ],
      "text/plain": [
       "--------------------------  -----------------------------\n",
       "H2O_cluster_uptime:         02 secs\n",
       "H2O_cluster_timezone:       Asia/Kolkata\n",
       "H2O_data_parsing_timezone:  UTC\n",
       "H2O_cluster_version:        3.36.1.4\n",
       "H2O_cluster_version_age:    6 days\n",
       "H2O_cluster_name:           H2O_from_python_DELL_ctit6l\n",
       "H2O_cluster_total_nodes:    1\n",
       "H2O_cluster_free_memory:    1.973 Gb\n",
       "H2O_cluster_total_cores:    4\n",
       "H2O_cluster_allowed_cores:  4\n",
       "H2O_cluster_status:         locked, healthy\n",
       "H2O_connection_url:         http://127.0.0.1:54321\n",
       "H2O_connection_proxy:       {\"http\": null, \"https\": null}\n",
       "H2O_internal_security:      False\n",
       "Python_version:             3.9.12 final\n",
       "--------------------------  -----------------------------"
      ]
     },
     "metadata": {},
     "output_type": "display_data"
    }
   ],
   "source": [
    "h2o.init()"
   ]
  },
  {
   "cell_type": "code",
   "execution_count": 1,
   "id": "7a6c46b8",
   "metadata": {},
   "outputs": [],
   "source": [
    "import pandas as pd\n",
    "import numpy as np\n"
   ]
  },
  {
   "cell_type": "code",
   "execution_count": 7,
   "id": "d1792506",
   "metadata": {},
   "outputs": [
    {
     "data": {
      "text/html": [
       "<div>\n",
       "<style scoped>\n",
       "    .dataframe tbody tr th:only-of-type {\n",
       "        vertical-align: middle;\n",
       "    }\n",
       "\n",
       "    .dataframe tbody tr th {\n",
       "        vertical-align: top;\n",
       "    }\n",
       "\n",
       "    .dataframe thead th {\n",
       "        text-align: right;\n",
       "    }\n",
       "</style>\n",
       "<table border=\"1\" class=\"dataframe\">\n",
       "  <thead>\n",
       "    <tr style=\"text-align: right;\">\n",
       "      <th></th>\n",
       "      <th>App</th>\n",
       "      <th>Category</th>\n",
       "      <th>Rating</th>\n",
       "      <th>Reviews</th>\n",
       "      <th>Size</th>\n",
       "      <th>Installs</th>\n",
       "      <th>Type</th>\n",
       "      <th>Price</th>\n",
       "      <th>Content Rating</th>\n",
       "      <th>Genres</th>\n",
       "      <th>Last Updated</th>\n",
       "      <th>Current Ver</th>\n",
       "      <th>Android Ver</th>\n",
       "    </tr>\n",
       "  </thead>\n",
       "  <tbody>\n",
       "    <tr>\n",
       "      <th>0</th>\n",
       "      <td>Photo Editor &amp; Candy Camera &amp; Grid &amp; ScrapBook</td>\n",
       "      <td>ART_AND_DESIGN</td>\n",
       "      <td>4.1</td>\n",
       "      <td>159</td>\n",
       "      <td>19M</td>\n",
       "      <td>10,000+</td>\n",
       "      <td>Free</td>\n",
       "      <td>0</td>\n",
       "      <td>Everyone</td>\n",
       "      <td>Art &amp; Design</td>\n",
       "      <td>January 7, 2018</td>\n",
       "      <td>1.0.0</td>\n",
       "      <td>4.0.3 and up</td>\n",
       "    </tr>\n",
       "    <tr>\n",
       "      <th>1</th>\n",
       "      <td>Coloring book moana</td>\n",
       "      <td>ART_AND_DESIGN</td>\n",
       "      <td>3.9</td>\n",
       "      <td>967</td>\n",
       "      <td>14M</td>\n",
       "      <td>500,000+</td>\n",
       "      <td>Free</td>\n",
       "      <td>0</td>\n",
       "      <td>Everyone</td>\n",
       "      <td>Art &amp; Design;Pretend Play</td>\n",
       "      <td>January 15, 2018</td>\n",
       "      <td>2.0.0</td>\n",
       "      <td>4.0.3 and up</td>\n",
       "    </tr>\n",
       "    <tr>\n",
       "      <th>2</th>\n",
       "      <td>U Launcher Lite – FREE Live Cool Themes, Hide ...</td>\n",
       "      <td>ART_AND_DESIGN</td>\n",
       "      <td>4.7</td>\n",
       "      <td>87510</td>\n",
       "      <td>8.7M</td>\n",
       "      <td>5,000,000+</td>\n",
       "      <td>Free</td>\n",
       "      <td>0</td>\n",
       "      <td>Everyone</td>\n",
       "      <td>Art &amp; Design</td>\n",
       "      <td>August 1, 2018</td>\n",
       "      <td>1.2.4</td>\n",
       "      <td>4.0.3 and up</td>\n",
       "    </tr>\n",
       "    <tr>\n",
       "      <th>3</th>\n",
       "      <td>Sketch - Draw &amp; Paint</td>\n",
       "      <td>ART_AND_DESIGN</td>\n",
       "      <td>4.5</td>\n",
       "      <td>215644</td>\n",
       "      <td>25M</td>\n",
       "      <td>50,000,000+</td>\n",
       "      <td>Free</td>\n",
       "      <td>0</td>\n",
       "      <td>Teen</td>\n",
       "      <td>Art &amp; Design</td>\n",
       "      <td>June 8, 2018</td>\n",
       "      <td>Varies with device</td>\n",
       "      <td>4.2 and up</td>\n",
       "    </tr>\n",
       "    <tr>\n",
       "      <th>4</th>\n",
       "      <td>Pixel Draw - Number Art Coloring Book</td>\n",
       "      <td>ART_AND_DESIGN</td>\n",
       "      <td>4.3</td>\n",
       "      <td>967</td>\n",
       "      <td>2.8M</td>\n",
       "      <td>100,000+</td>\n",
       "      <td>Free</td>\n",
       "      <td>0</td>\n",
       "      <td>Everyone</td>\n",
       "      <td>Art &amp; Design;Creativity</td>\n",
       "      <td>June 20, 2018</td>\n",
       "      <td>1.1</td>\n",
       "      <td>4.4 and up</td>\n",
       "    </tr>\n",
       "  </tbody>\n",
       "</table>\n",
       "</div>"
      ],
      "text/plain": [
       "                                                 App        Category  Rating  \\\n",
       "0     Photo Editor & Candy Camera & Grid & ScrapBook  ART_AND_DESIGN     4.1   \n",
       "1                                Coloring book moana  ART_AND_DESIGN     3.9   \n",
       "2  U Launcher Lite – FREE Live Cool Themes, Hide ...  ART_AND_DESIGN     4.7   \n",
       "3                              Sketch - Draw & Paint  ART_AND_DESIGN     4.5   \n",
       "4              Pixel Draw - Number Art Coloring Book  ART_AND_DESIGN     4.3   \n",
       "\n",
       "  Reviews  Size     Installs  Type Price Content Rating  \\\n",
       "0     159   19M      10,000+  Free     0       Everyone   \n",
       "1     967   14M     500,000+  Free     0       Everyone   \n",
       "2   87510  8.7M   5,000,000+  Free     0       Everyone   \n",
       "3  215644   25M  50,000,000+  Free     0           Teen   \n",
       "4     967  2.8M     100,000+  Free     0       Everyone   \n",
       "\n",
       "                      Genres      Last Updated         Current Ver  \\\n",
       "0               Art & Design   January 7, 2018               1.0.0   \n",
       "1  Art & Design;Pretend Play  January 15, 2018               2.0.0   \n",
       "2               Art & Design    August 1, 2018               1.2.4   \n",
       "3               Art & Design      June 8, 2018  Varies with device   \n",
       "4    Art & Design;Creativity     June 20, 2018                 1.1   \n",
       "\n",
       "    Android Ver  \n",
       "0  4.0.3 and up  \n",
       "1  4.0.3 and up  \n",
       "2  4.0.3 and up  \n",
       "3    4.2 and up  \n",
       "4    4.4 and up  "
      ]
     },
     "execution_count": 7,
     "metadata": {},
     "output_type": "execute_result"
    }
   ],
   "source": [
    "df1 = pd.read_csv('~/Desktop/New folder (3)/practice/New folder/googleplaystore.csv')\n",
    "df1.head()\n"
   ]
  },
  {
   "cell_type": "code",
   "execution_count": 8,
   "id": "91c9f639",
   "metadata": {},
   "outputs": [],
   "source": [
    "df = df1.copy()"
   ]
  },
  {
   "cell_type": "code",
   "execution_count": 10,
   "id": "dc5b6548",
   "metadata": {},
   "outputs": [],
   "source": [
    "y = df['Size']\n",
    "\n",
    "strings = []\n",
    "numbers = []\n",
    "\n",
    "for number in y:\n",
    "    if number[-1:] == 'k':  # Check if the last digit is K\n",
    "        strings.append(number[:-1] + \" Th\")  # Append a Thousand after removing the last char\n",
    "        numbers.append(float(number[:-1]) * 1000)  # Remove the last digit with [:-1], and convert to int and multiply by 1000\n",
    "    elif number[-1:] == 'M':  # Check if the last digit is M\n",
    "        strings.append(number[:-1] + \" M\")  # Append a Million after removing the last char\n",
    "        numbers.append(float(number[:-1]) * 1000000)  # Remove the last digit with [:-1], and convert to int and multiply by 1000000\n",
    "    elif number[-1:] == '+': # just in case data doesnt have an M or K\n",
    "        strings.append(number)\n",
    "        numbers.append(number[:-1])\n",
    "    elif number[-1:] == 'e': # just in case data doesnt have an M or K\n",
    "        strings.append(number)\n",
    "        numbers.append(number[:-1])"
   ]
  },
  {
   "cell_type": "code",
   "execution_count": 12,
   "id": "e263479d",
   "metadata": {},
   "outputs": [],
   "source": [
    "df['size'] = pd.DataFrame(numbers)"
   ]
  },
  {
   "cell_type": "code",
   "execution_count": 13,
   "id": "3a8f9893",
   "metadata": {},
   "outputs": [],
   "source": [
    "df['unit'] = pd.DataFrame(strings)"
   ]
  },
  {
   "cell_type": "code",
   "execution_count": 15,
   "id": "ce20ccea",
   "metadata": {},
   "outputs": [],
   "source": [
    "df['size'] = df['size'].replace('1,000',1000)"
   ]
  },
  {
   "cell_type": "code",
   "execution_count": 17,
   "id": "4f1119bf",
   "metadata": {},
   "outputs": [
    {
     "data": {
      "text/plain": [
       "array([1.90e+07, 1.40e+07, 8.70e+06, 2.50e+07, 2.80e+06, 5.60e+06,\n",
       "       2.90e+07, 3.30e+07, 3.10e+06, 2.80e+07, 1.20e+07, 2.00e+07,\n",
       "       2.10e+07, 3.70e+07, 2.70e+06, 5.50e+06, 1.70e+07, 3.90e+07,\n",
       "       3.10e+07, 4.20e+06, 7.00e+06, 2.30e+07, 6.00e+06, 6.10e+06,\n",
       "       4.60e+06, 9.20e+06, 5.20e+06, 1.10e+07, 2.40e+07, 9.40e+06,\n",
       "       1.50e+07, 1.00e+07, 1.20e+06, 2.60e+07, 8.00e+06, 7.90e+06,\n",
       "       5.60e+07, 5.70e+07, 3.50e+07, 5.40e+07, 2.01e+05, 3.60e+06,\n",
       "       5.70e+06, 8.60e+06, 2.40e+06, 2.70e+07, 2.50e+06, 1.60e+07,\n",
       "       3.40e+06, 8.90e+06, 3.90e+06, 2.90e+06, 3.80e+07, 3.20e+07,\n",
       "       5.40e+06, 1.80e+07, 1.10e+06, 2.20e+06, 4.50e+06, 9.80e+06,\n",
       "       5.20e+07, 9.00e+06, 6.70e+06, 3.00e+07, 2.60e+06, 7.10e+06,\n",
       "       3.70e+06, 2.20e+07, 7.40e+06, 6.40e+06, 3.20e+06, 8.20e+06,\n",
       "       9.90e+06, 4.90e+06, 9.50e+06, 5.00e+06, 5.90e+06, 1.30e+07,\n",
       "       7.30e+07, 6.80e+06, 3.50e+06, 4.00e+06, 2.30e+06, 7.20e+06,\n",
       "       2.10e+06, 4.20e+07, 7.30e+06, 9.10e+06, 5.50e+07, 2.30e+04,\n",
       "       6.50e+06, 1.50e+06, 7.50e+06, 5.10e+07, 4.10e+07, 4.80e+07,\n",
       "       8.50e+06, 4.60e+07, 8.30e+06, 4.30e+06, 4.70e+06, 3.30e+06,\n",
       "       4.00e+07, 7.80e+06, 8.80e+06, 6.60e+06, 5.10e+06, 6.10e+07,\n",
       "       6.60e+07, 7.90e+04, 8.40e+06, 1.18e+05, 4.40e+07, 6.95e+05,\n",
       "       1.60e+06, 6.20e+06, 1.80e+04, 5.30e+07, 1.40e+06, 3.00e+06,\n",
       "       5.80e+06, 3.80e+06, 9.60e+06, 4.50e+07, 6.30e+07, 4.90e+07,\n",
       "       7.70e+07, 4.40e+06, 4.80e+06, 7.00e+07, 6.90e+06, 9.30e+06,\n",
       "       8.10e+06, 3.60e+07, 8.40e+07, 9.70e+07, 2.00e+06, 1.90e+06,\n",
       "       1.80e+06, 5.30e+06, 4.70e+07, 5.56e+05, 5.26e+05, 7.60e+07,\n",
       "       7.60e+06, 5.90e+07, 9.70e+06, 7.80e+07, 7.20e+07, 4.30e+07,\n",
       "       7.70e+06, 6.30e+06, 3.34e+05, 3.40e+07, 9.30e+07, 6.50e+07,\n",
       "       7.90e+07, 1.00e+08, 5.80e+07, 5.00e+07, 6.80e+07, 6.40e+07,\n",
       "       6.70e+07, 6.00e+07, 9.40e+07, 2.32e+05, 9.90e+07, 6.24e+05,\n",
       "       9.50e+07, 8.50e+03, 4.10e+04, 2.92e+05, 1.10e+04, 8.00e+07,\n",
       "       1.70e+06, 7.40e+07, 6.20e+07, 6.90e+07, 7.50e+07, 9.80e+07,\n",
       "       8.50e+07, 8.20e+07, 9.60e+07, 8.70e+07, 7.10e+07, 8.60e+07,\n",
       "       9.10e+07, 8.10e+07, 9.20e+07, 8.30e+07, 8.80e+07, 7.04e+05,\n",
       "       8.62e+05, 8.99e+05, 3.78e+05, 2.66e+05, 3.75e+05, 1.30e+06,\n",
       "       9.75e+05, 9.80e+05, 4.10e+06, 8.90e+07, 6.96e+05, 5.44e+05,\n",
       "       5.25e+05, 9.20e+05, 7.79e+05, 8.53e+05, 7.20e+05, 7.13e+05,\n",
       "       7.72e+05, 3.18e+05, 5.80e+04, 2.41e+05, 1.96e+05, 8.57e+05,\n",
       "       5.10e+04, 9.53e+05, 8.65e+05, 2.51e+05, 9.30e+05, 5.40e+05,\n",
       "       3.13e+05, 7.46e+05, 2.03e+05, 2.60e+04, 3.14e+05, 2.39e+05,\n",
       "       3.71e+05, 2.20e+05, 7.30e+05, 7.56e+05, 9.10e+04, 2.93e+05,\n",
       "       1.70e+04, 7.40e+04, 1.40e+04, 3.17e+05, 7.80e+04, 9.24e+05,\n",
       "       9.02e+05, 8.18e+05, 8.10e+04, 9.39e+05, 1.69e+05, 4.50e+04,\n",
       "       4.75e+05, 9.65e+05, 9.00e+07, 5.45e+05, 6.10e+04, 2.83e+05,\n",
       "       6.55e+05, 7.14e+05, 9.30e+04, 8.72e+05, 1.21e+05, 3.22e+05,\n",
       "       1.00e+06, 9.76e+05, 1.72e+05, 2.38e+05, 5.49e+05, 2.06e+05,\n",
       "       9.54e+05, 4.44e+05, 7.17e+05, 2.10e+05, 6.09e+05, 3.08e+05,\n",
       "       7.05e+05, 3.06e+05, 9.04e+05, 4.73e+05, 1.75e+05, 3.50e+05,\n",
       "       3.83e+05, 4.54e+05, 4.21e+05, 7.00e+04, 8.12e+05, 4.42e+05,\n",
       "       8.42e+05, 4.17e+05, 4.12e+05, 4.59e+05, 4.78e+05, 3.35e+05,\n",
       "       7.82e+05, 7.21e+05, 4.30e+05, 4.29e+05, 1.92e+05, 2.00e+05,\n",
       "       4.60e+05, 7.28e+05, 4.96e+05, 8.16e+05, 4.14e+05, 5.06e+05,\n",
       "       8.87e+05, 6.13e+05, 2.43e+05, 5.69e+05, 7.78e+05, 6.83e+05,\n",
       "       5.92e+05, 3.19e+05, 1.86e+05, 8.40e+05, 6.47e+05, 1.91e+05,\n",
       "       3.73e+05, 4.37e+05, 5.98e+05, 7.16e+05, 5.85e+05, 9.82e+05,\n",
       "       2.22e+05, 2.19e+05, 5.50e+04, 9.48e+05, 3.23e+05, 6.91e+05,\n",
       "       5.11e+05, 9.51e+05, 9.63e+05, 2.50e+04, 5.54e+05, 3.51e+05,\n",
       "       2.70e+04, 8.20e+04, 2.08e+05, 9.13e+05, 5.14e+05, 5.51e+05,\n",
       "       2.90e+04, 1.03e+05, 8.98e+05, 7.43e+05, 1.16e+05, 1.53e+05,\n",
       "       2.09e+05, 3.53e+05, 4.99e+05, 1.73e+05, 5.97e+05, 8.09e+05,\n",
       "       1.22e+05, 4.11e+05, 4.00e+05, 8.01e+05, 7.87e+05, 2.37e+05,\n",
       "       5.00e+04, 6.43e+05, 9.86e+05, 9.70e+04, 5.16e+05, 8.37e+05,\n",
       "       7.80e+05, 9.61e+05, 2.69e+05, 2.00e+04, 4.98e+05, 6.00e+05,\n",
       "       7.49e+05, 6.42e+05, 8.81e+05, 7.20e+04, 6.56e+05, 6.01e+05,\n",
       "       2.21e+05, 2.28e+05, 1.08e+05, 9.40e+05, 1.76e+05, 3.30e+04,\n",
       "       6.63e+05, 3.40e+04, 9.42e+05, 2.59e+05, 1.64e+05, 4.58e+05,\n",
       "       2.45e+05, 6.29e+05, 2.80e+04, 2.88e+05, 7.75e+05, 7.85e+05,\n",
       "       6.36e+05, 9.16e+05, 9.94e+05, 3.09e+05, 4.85e+05, 9.14e+05,\n",
       "       9.03e+05, 6.08e+05, 5.00e+05, 5.40e+04, 5.62e+05, 8.47e+05,\n",
       "       9.57e+05, 6.88e+05, 8.11e+05, 2.70e+05, 4.80e+04, 3.29e+05,\n",
       "       5.23e+05, 9.21e+05, 8.74e+05, 9.81e+05, 7.84e+05, 2.80e+05,\n",
       "       2.40e+04, 5.18e+05, 7.54e+05, 8.92e+05, 1.54e+05, 8.60e+05,\n",
       "       3.64e+05, 3.87e+05, 6.26e+05, 1.61e+05, 8.79e+05, 3.90e+04,\n",
       "       9.70e+05, 1.70e+05, 1.41e+05, 1.60e+05, 1.44e+05, 1.43e+05,\n",
       "       1.90e+05, 3.76e+05, 1.93e+05, 2.46e+05, 7.30e+04, 6.58e+05,\n",
       "       9.92e+05, 2.53e+05, 4.20e+05, 4.04e+05, 1.00e+03, 4.70e+05,\n",
       "       2.26e+05, 2.40e+05, 8.90e+04, 2.34e+05, 2.57e+05, 8.61e+05,\n",
       "       4.67e+05, 1.57e+05, 4.40e+04, 6.76e+05, 6.70e+04, 5.52e+05,\n",
       "       8.85e+05, 1.02e+06, 5.82e+05, 6.19e+05,      nan])"
      ]
     },
     "execution_count": 17,
     "metadata": {},
     "output_type": "execute_result"
    }
   ],
   "source": [
    "\n",
    "df['size'].unique()"
   ]
  },
  {
   "cell_type": "code",
   "execution_count": 23,
   "id": "472f5912",
   "metadata": {},
   "outputs": [
    {
     "data": {
      "text/plain": [
       "1695"
      ]
     },
     "execution_count": 23,
     "metadata": {},
     "output_type": "execute_result"
    }
   ],
   "source": [
    "df['size'].isnull().sum()"
   ]
  },
  {
   "cell_type": "code",
   "execution_count": 20,
   "id": "549c1f80",
   "metadata": {},
   "outputs": [
    {
     "data": {
      "text/plain": [
       "(10841, 15)"
      ]
     },
     "execution_count": 20,
     "metadata": {},
     "output_type": "execute_result"
    }
   ],
   "source": [
    "df.shape"
   ]
  },
  {
   "cell_type": "code",
   "execution_count": null,
   "id": "ca12d6ee",
   "metadata": {},
   "outputs": [],
   "source": []
  }
 ],
 "metadata": {
  "kernelspec": {
   "display_name": "Python 3 (ipykernel)",
   "language": "python",
   "name": "python3"
  },
  "language_info": {
   "codemirror_mode": {
    "name": "ipython",
    "version": 3
   },
   "file_extension": ".py",
   "mimetype": "text/x-python",
   "name": "python",
   "nbconvert_exporter": "python",
   "pygments_lexer": "ipython3",
   "version": "3.9.12"
  }
 },
 "nbformat": 4,
 "nbformat_minor": 5
}
