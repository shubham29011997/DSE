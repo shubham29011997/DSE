{
 "cells": [
  {
   "cell_type": "code",
   "execution_count": 28,
   "metadata": {},
   "outputs": [],
   "source": [
    "# write your code here\n",
    "# import 'Pandas' \n",
    "import pandas as pd \n",
    "\n",
    "# import 'Numpy' \n",
    "import numpy as np\n",
    "\n",
    "# import subpackage of Matplotlib\n",
    "import matplotlib.pyplot as plt\n",
    "import matplotlib.cm as cm\n",
    "\n",
    "# import 'Seaborn' \n",
    "import seaborn as sns\n",
    "\n",
    "# to suppress warnings \n",
    "from warnings import filterwarnings\n",
    "filterwarnings('ignore')\n",
    " \n",
    "# to display the float values upto 6 decimal places     \n",
    "pd.options.display.float_format = '{:.6f}'.format\n",
    "\n",
    "# import functions to perform scaling and normalization\n",
    "from sklearn.preprocessing import StandardScaler\n",
    "\n",
    "# import various functions from sklearn \n",
    "from sklearn.metrics import silhouette_score, silhouette_samples\n",
    "from sklearn.cluster import KMeans\n",
    "from scipy.cluster.hierarchy import linkage,dendrogram,cophenet"
   ]
  },
  {
   "cell_type": "code",
   "execution_count": 4,
   "metadata": {},
   "outputs": [
    {
     "data": {
      "text/html": [
       "<div>\n",
       "<style scoped>\n",
       "    .dataframe tbody tr th:only-of-type {\n",
       "        vertical-align: middle;\n",
       "    }\n",
       "\n",
       "    .dataframe tbody tr th {\n",
       "        vertical-align: top;\n",
       "    }\n",
       "\n",
       "    .dataframe thead th {\n",
       "        text-align: right;\n",
       "    }\n",
       "</style>\n",
       "<table border=\"1\" class=\"dataframe\">\n",
       "  <thead>\n",
       "    <tr style=\"text-align: right;\">\n",
       "      <th></th>\n",
       "      <th>Region</th>\n",
       "      <th>CO2 Emissions</th>\n",
       "      <th>Ease of Business</th>\n",
       "      <th>Energy Usage</th>\n",
       "      <th>GDP</th>\n",
       "      <th>Internet Usage</th>\n",
       "      <th>Population Total</th>\n",
       "    </tr>\n",
       "  </thead>\n",
       "  <tbody>\n",
       "    <tr>\n",
       "      <th>0</th>\n",
       "      <td>Europe</td>\n",
       "      <td>4294</td>\n",
       "      <td>151</td>\n",
       "      <td>1976</td>\n",
       "      <td>5652325082.000000</td>\n",
       "      <td>0.010000</td>\n",
       "      <td>3033659</td>\n",
       "    </tr>\n",
       "    <tr>\n",
       "      <th>1</th>\n",
       "      <td>Europe</td>\n",
       "      <td>4166</td>\n",
       "      <td>151</td>\n",
       "      <td>2172</td>\n",
       "      <td>7464446950.000000</td>\n",
       "      <td>0.024000</td>\n",
       "      <td>3014579</td>\n",
       "    </tr>\n",
       "    <tr>\n",
       "      <th>2</th>\n",
       "      <td>Europe</td>\n",
       "      <td>4254</td>\n",
       "      <td>151</td>\n",
       "      <td>2172</td>\n",
       "      <td>8376483740.000000</td>\n",
       "      <td>0.060000</td>\n",
       "      <td>2992724</td>\n",
       "    </tr>\n",
       "    <tr>\n",
       "      <th>3</th>\n",
       "      <td>Europe</td>\n",
       "      <td>3865</td>\n",
       "      <td>151</td>\n",
       "      <td>2068</td>\n",
       "      <td>9132562332.000000</td>\n",
       "      <td>0.096000</td>\n",
       "      <td>2968028</td>\n",
       "    </tr>\n",
       "    <tr>\n",
       "      <th>4</th>\n",
       "      <td>Europe</td>\n",
       "      <td>4056</td>\n",
       "      <td>151</td>\n",
       "      <td>2025</td>\n",
       "      <td>10701011856.000000</td>\n",
       "      <td>0.150000</td>\n",
       "      <td>2940880</td>\n",
       "    </tr>\n",
       "    <tr>\n",
       "      <th>...</th>\n",
       "      <td>...</td>\n",
       "      <td>...</td>\n",
       "      <td>...</td>\n",
       "      <td>...</td>\n",
       "      <td>...</td>\n",
       "      <td>...</td>\n",
       "      <td>...</td>\n",
       "    </tr>\n",
       "    <tr>\n",
       "      <th>1238</th>\n",
       "      <td>Africa</td>\n",
       "      <td>2274</td>\n",
       "      <td>90</td>\n",
       "      <td>7213</td>\n",
       "      <td>7178556337.000000</td>\n",
       "      <td>0.029000</td>\n",
       "      <td>11470022</td>\n",
       "    </tr>\n",
       "    <tr>\n",
       "      <th>1239</th>\n",
       "      <td>Africa</td>\n",
       "      <td>2226</td>\n",
       "      <td>90</td>\n",
       "      <td>7396</td>\n",
       "      <td>10702200822.000000</td>\n",
       "      <td>0.042000</td>\n",
       "      <td>11781612</td>\n",
       "    </tr>\n",
       "    <tr>\n",
       "      <th>1240</th>\n",
       "      <td>Africa</td>\n",
       "      <td>1654</td>\n",
       "      <td>90</td>\n",
       "      <td>7399</td>\n",
       "      <td>11541420981.000000</td>\n",
       "      <td>0.049000</td>\n",
       "      <td>12109620</td>\n",
       "    </tr>\n",
       "    <tr>\n",
       "      <th>1241</th>\n",
       "      <td>Africa</td>\n",
       "      <td>1845</td>\n",
       "      <td>90</td>\n",
       "      <td>7641</td>\n",
       "      <td>14640792100.000000</td>\n",
       "      <td>0.056000</td>\n",
       "      <td>12456527</td>\n",
       "    </tr>\n",
       "    <tr>\n",
       "      <th>1242</th>\n",
       "      <td>Africa</td>\n",
       "      <td>2156</td>\n",
       "      <td>90</td>\n",
       "      <td>7842</td>\n",
       "      <td>12805029522.000000</td>\n",
       "      <td>0.063000</td>\n",
       "      <td>12825031</td>\n",
       "    </tr>\n",
       "  </tbody>\n",
       "</table>\n",
       "<p>1243 rows × 7 columns</p>\n",
       "</div>"
      ],
      "text/plain": [
       "      Region  CO2 Emissions  Ease of Business  Energy Usage  \\\n",
       "0     Europe           4294               151          1976   \n",
       "1     Europe           4166               151          2172   \n",
       "2     Europe           4254               151          2172   \n",
       "3     Europe           3865               151          2068   \n",
       "4     Europe           4056               151          2025   \n",
       "...      ...            ...               ...           ...   \n",
       "1238  Africa           2274                90          7213   \n",
       "1239  Africa           2226                90          7396   \n",
       "1240  Africa           1654                90          7399   \n",
       "1241  Africa           1845                90          7641   \n",
       "1242  Africa           2156                90          7842   \n",
       "\n",
       "                    GDP  Internet Usage  Population Total  \n",
       "0     5652325082.000000        0.010000           3033659  \n",
       "1     7464446950.000000        0.024000           3014579  \n",
       "2     8376483740.000000        0.060000           2992724  \n",
       "3     9132562332.000000        0.096000           2968028  \n",
       "4    10701011856.000000        0.150000           2940880  \n",
       "...                 ...             ...               ...  \n",
       "1238  7178556337.000000        0.029000          11470022  \n",
       "1239 10702200822.000000        0.042000          11781612  \n",
       "1240 11541420981.000000        0.049000          12109620  \n",
       "1241 14640792100.000000        0.056000          12456527  \n",
       "1242 12805029522.000000        0.063000          12825031  \n",
       "\n",
       "[1243 rows x 7 columns]"
      ]
     },
     "execution_count": 4,
     "metadata": {},
     "output_type": "execute_result"
    }
   ],
   "source": [
    "# write your code here\n",
    "df1 = pd.read_csv('~/Desktop/New folder (3)/usl/inclass/day2/CO2_emission_data.csv')  \n",
    "df1"
   ]
  },
  {
   "cell_type": "code",
   "execution_count": 5,
   "metadata": {},
   "outputs": [
    {
     "name": "stdout",
     "output_type": "stream",
     "text": [
      "<class 'pandas.core.frame.DataFrame'>\n",
      "RangeIndex: 1243 entries, 0 to 1242\n",
      "Data columns (total 7 columns):\n",
      " #   Column            Non-Null Count  Dtype  \n",
      "---  ------            --------------  -----  \n",
      " 0   Region            1243 non-null   object \n",
      " 1   CO2 Emissions     1243 non-null   int64  \n",
      " 2   Ease of Business  1243 non-null   int64  \n",
      " 3   Energy Usage      1243 non-null   int64  \n",
      " 4   GDP               1243 non-null   float64\n",
      " 5   Internet Usage    1236 non-null   float64\n",
      " 6   Population Total  1243 non-null   int64  \n",
      "dtypes: float64(2), int64(4), object(1)\n",
      "memory usage: 68.1+ KB\n"
     ]
    }
   ],
   "source": [
    "df1.info()"
   ]
  },
  {
   "cell_type": "code",
   "execution_count": 7,
   "metadata": {},
   "outputs": [
    {
     "data": {
      "text/plain": [
       "Region      \n",
       "Europe          302\n",
       "The Americas    289\n",
       "Africa          254\n",
       "Asia            244\n",
       "Middle East      92\n",
       "Oceania          62\n",
       "dtype: int64"
      ]
     },
     "execution_count": 7,
     "metadata": {},
     "output_type": "execute_result"
    }
   ],
   "source": [
    "# write your code here\n",
    "df1.iloc[:,:1].value_counts()"
   ]
  },
  {
   "cell_type": "code",
   "execution_count": 8,
   "metadata": {},
   "outputs": [
    {
     "data": {
      "text/plain": [
       "<AxesSubplot:xlabel='Region', ylabel='count'>"
      ]
     },
     "execution_count": 8,
     "metadata": {},
     "output_type": "execute_result"
    },
    {
     "data": {
      "image/png": "[encoded data removed]",
      "text/plain": [
       "<Figure size 432x288 with 1 Axes>"
      ]
     },
     "metadata": {
      "needs_background": "light"
     },
     "output_type": "display_data"
    }
   ],
   "source": [
    "sns.countplot(df['Region'])"
   ]
  },
  {
   "cell_type": "code",
   "execution_count": 11,
   "metadata": {},
   "outputs": [
    {
     "name": "stdout",
     "output_type": "stream",
     "text": [
      "<class 'pandas.core.frame.DataFrame'>\n",
      "RangeIndex: 1243 entries, 0 to 1242\n",
      "Data columns (total 7 columns):\n",
      " #   Column            Non-Null Count  Dtype  \n",
      "---  ------            --------------  -----  \n",
      " 0   Region            1243 non-null   object \n",
      " 1   CO2 Emissions     1243 non-null   int64  \n",
      " 2   Ease of Business  1243 non-null   int64  \n",
      " 3   Energy Usage      1243 non-null   int64  \n",
      " 4   GDP               1243 non-null   float64\n",
      " 5   Internet Usage    1236 non-null   float64\n",
      " 6   Population Total  1243 non-null   int64  \n",
      "dtypes: float64(2), int64(4), object(1)\n",
      "memory usage: 68.1+ KB\n",
      "None\n",
      "       CO2 Emissions  Ease of Business   Energy Usage                   GDP  \\\n",
      "count    1243.000000       1243.000000    1243.000000           1243.000000   \n",
      "mean   189766.624296         88.279968   75418.424779   353554814174.657288   \n",
      "std    769702.722918         52.770388  270758.645334  1358969743285.446045   \n",
      "min        48.000000          1.000000      30.000000      123258507.000000   \n",
      "25%      3111.500000         45.000000    2721.000000     7746580674.000000   \n",
      "50%     16208.000000         85.000000    9318.000000    24680372724.000000   \n",
      "75%     75812.000000        131.000000   34956.500000   177000000000.000000   \n",
      "max   8286892.000000        186.000000 2727728.000000 16200000000000.000000   \n",
      "\n",
      "       Internet Usage  Population Total  \n",
      "count     1236.000000       1243.000000  \n",
      "mean         0.329983   45134936.481899  \n",
      "std          1.634042  160048304.351808  \n",
      "min          0.000000      69660.000000  \n",
      "25%          0.062000    2097087.500000  \n",
      "50%          0.200500    7739900.000000  \n",
      "75%          0.460000   28846635.500000  \n",
      "max         57.000000 1350695000.000000  \n",
      "(1243, 7)\n"
     ]
    }
   ],
   "source": [
    "# write your code here\n",
    "print(df1.info())\n",
    "print(df1.describe())\n",
    "print(df1.shape)"
   ]
  },
  {
   "cell_type": "code",
   "execution_count": 14,
   "metadata": {},
   "outputs": [
    {
     "data": {
      "text/html": [
       "<div>\n",
       "<style scoped>\n",
       "    .dataframe tbody tr th:only-of-type {\n",
       "        vertical-align: middle;\n",
       "    }\n",
       "\n",
       "    .dataframe tbody tr th {\n",
       "        vertical-align: top;\n",
       "    }\n",
       "\n",
       "    .dataframe thead th {\n",
       "        text-align: right;\n",
       "    }\n",
       "</style>\n",
       "<table border=\"1\" class=\"dataframe\">\n",
       "  <thead>\n",
       "    <tr style=\"text-align: right;\">\n",
       "      <th></th>\n",
       "      <th>CO2 Emissions</th>\n",
       "      <th>Energy Usage</th>\n",
       "      <th>GDP</th>\n",
       "      <th>Population Total</th>\n",
       "    </tr>\n",
       "  </thead>\n",
       "  <tbody>\n",
       "    <tr>\n",
       "      <th>0</th>\n",
       "      <td>4294</td>\n",
       "      <td>1976</td>\n",
       "      <td>5652325082.000000</td>\n",
       "      <td>3033659</td>\n",
       "    </tr>\n",
       "    <tr>\n",
       "      <th>1</th>\n",
       "      <td>4166</td>\n",
       "      <td>2172</td>\n",
       "      <td>7464446950.000000</td>\n",
       "      <td>3014579</td>\n",
       "    </tr>\n",
       "    <tr>\n",
       "      <th>2</th>\n",
       "      <td>4254</td>\n",
       "      <td>2172</td>\n",
       "      <td>8376483740.000000</td>\n",
       "      <td>2992724</td>\n",
       "    </tr>\n",
       "    <tr>\n",
       "      <th>3</th>\n",
       "      <td>3865</td>\n",
       "      <td>2068</td>\n",
       "      <td>9132562332.000000</td>\n",
       "      <td>2968028</td>\n",
       "    </tr>\n",
       "    <tr>\n",
       "      <th>4</th>\n",
       "      <td>4056</td>\n",
       "      <td>2025</td>\n",
       "      <td>10701011856.000000</td>\n",
       "      <td>2940880</td>\n",
       "    </tr>\n",
       "    <tr>\n",
       "      <th>...</th>\n",
       "      <td>...</td>\n",
       "      <td>...</td>\n",
       "      <td>...</td>\n",
       "      <td>...</td>\n",
       "    </tr>\n",
       "    <tr>\n",
       "      <th>1238</th>\n",
       "      <td>2274</td>\n",
       "      <td>7213</td>\n",
       "      <td>7178556337.000000</td>\n",
       "      <td>11470022</td>\n",
       "    </tr>\n",
       "    <tr>\n",
       "      <th>1239</th>\n",
       "      <td>2226</td>\n",
       "      <td>7396</td>\n",
       "      <td>10702200822.000000</td>\n",
       "      <td>11781612</td>\n",
       "    </tr>\n",
       "    <tr>\n",
       "      <th>1240</th>\n",
       "      <td>1654</td>\n",
       "      <td>7399</td>\n",
       "      <td>11541420981.000000</td>\n",
       "      <td>12109620</td>\n",
       "    </tr>\n",
       "    <tr>\n",
       "      <th>1241</th>\n",
       "      <td>1845</td>\n",
       "      <td>7641</td>\n",
       "      <td>14640792100.000000</td>\n",
       "      <td>12456527</td>\n",
       "    </tr>\n",
       "    <tr>\n",
       "      <th>1242</th>\n",
       "      <td>2156</td>\n",
       "      <td>7842</td>\n",
       "      <td>12805029522.000000</td>\n",
       "      <td>12825031</td>\n",
       "    </tr>\n",
       "  </tbody>\n",
       "</table>\n",
       "<p>1243 rows × 4 columns</p>\n",
       "</div>"
      ],
      "text/plain": [
       "      CO2 Emissions  Energy Usage                GDP  Population Total\n",
       "0              4294          1976  5652325082.000000           3033659\n",
       "1              4166          2172  7464446950.000000           3014579\n",
       "2              4254          2172  8376483740.000000           2992724\n",
       "3              3865          2068  9132562332.000000           2968028\n",
       "4              4056          2025 10701011856.000000           2940880\n",
       "...             ...           ...                ...               ...\n",
       "1238           2274          7213  7178556337.000000          11470022\n",
       "1239           2226          7396 10702200822.000000          11781612\n",
       "1240           1654          7399 11541420981.000000          12109620\n",
       "1241           1845          7641 14640792100.000000          12456527\n",
       "1242           2156          7842 12805029522.000000          12825031\n",
       "\n",
       "[1243 rows x 4 columns]"
      ]
     },
     "execution_count": 14,
     "metadata": {},
     "output_type": "execute_result"
    }
   ],
   "source": [
    "# write your code here\n",
    "df= df1.drop(df1.loc[:,['Region',\"Ease of Business\",'Internet Usage']],axis = 1)\n",
    "df"
   ]
  },
  {
   "cell_type": "code",
   "execution_count": 15,
   "metadata": {},
   "outputs": [
    {
     "data": {
      "text/plain": [
       "CO2 Emissions       0\n",
       "Energy Usage        0\n",
       "GDP                 0\n",
       "Population Total    0\n",
       "dtype: int64"
      ]
     },
     "execution_count": 15,
     "metadata": {},
     "output_type": "execute_result"
    }
   ],
   "source": [
    "# write your code here\n",
    "df.isnull().sum()"
   ]
  },
  {
   "cell_type": "code",
   "execution_count": 16,
   "metadata": {},
   "outputs": [
    {
     "data": {
      "text/plain": [
       "<AxesSubplot:>"
      ]
     },
     "execution_count": 16,
     "metadata": {},
     "output_type": "execute_result"
    },
    {
     "data": {
      "image/png": "[encoded data removed]",
      "text/plain": [
       "<Figure size 432x288 with 1 Axes>"
      ]
     },
     "metadata": {
      "needs_background": "light"
     },
     "output_type": "display_data"
    }
   ],
   "source": [
    "# write your code here\n",
    "df.boxplot()"
   ]
  },
  {
   "cell_type": "code",
   "execution_count": 19,
   "metadata": {},
   "outputs": [],
   "source": [
    "# write your code here\n",
    "q3 = df.quantile(0.75)\n",
    "q1 = df.quantile(0.25)\n",
    "iqr = q3-q1\n",
    "low = q1-3.5*iqr\n",
    "upp = q3+3.5*iqr\n",
    "dt = df[~((df < low) | (df > upp)).any(axis=1)]"
   ]
  },
  {
   "cell_type": "code",
   "execution_count": 21,
   "metadata": {},
   "outputs": [
    {
     "data": {
      "text/plain": [
       "<AxesSubplot:>"
      ]
     },
     "execution_count": 21,
     "metadata": {},
     "output_type": "execute_result"
    },
    {
     "data": {
      "image/png": "[encoded data removed]",
      "text/plain": [
       "<Figure size 432x288 with 1 Axes>"
      ]
     },
     "metadata": {
      "needs_background": "light"
     },
     "output_type": "display_data"
    }
   ],
   "source": [
    "# write your code here\n",
    "dt.boxplot()"
   ]
  },
  {
   "cell_type": "code",
   "execution_count": 23,
   "metadata": {},
   "outputs": [],
   "source": [
    "# write your code here\n",
    "scale = StandardScaler()\n",
    "scaled  = scale.fit_transform(dt)"
   ]
  },
  {
   "cell_type": "code",
   "execution_count": 29,
   "metadata": {},
   "outputs": [
    {
     "data": {
      "text/plain": [
       "array([[3.80000000e+02, 3.82000000e+02, 2.25694801e-05, 2.00000000e+00],\n",
       "       [3.91000000e+02, 3.92000000e+02, 3.78208913e-05, 2.00000000e+00],\n",
       "       [3.81000000e+02, 3.83000000e+02, 8.63012142e-05, 2.00000000e+00],\n",
       "       [3.60000000e+01, 3.70000000e+01, 8.78688205e-05, 2.00000000e+00],\n",
       "       [2.60000000e+01, 2.70000000e+01, 1.07365323e-04, 2.00000000e+00],\n",
       "       [4.95000000e+02, 4.96000000e+02, 1.19667619e-04, 2.00000000e+00],\n",
       "       [3.84000000e+02, 3.85000000e+02, 1.20059668e-04, 2.00000000e+00],\n",
       "       [8.16000000e+02, 8.18000000e+02, 1.41060028e-04, 2.00000000e+00],\n",
       "       [9.60000000e+02, 9.61000000e+02, 1.45534666e-04, 2.00000000e+00],\n",
       "       [3.89000000e+02, 3.90000000e+02, 1.48856642e-04, 2.00000000e+00]])"
      ]
     },
     "execution_count": 29,
     "metadata": {},
     "output_type": "execute_result"
    }
   ],
   "source": [
    "link_mat = linkage(scaled, method = 'ward')\n",
    "link_mat[0:10]"
   ]
  },
  {
   "cell_type": "code",
   "execution_count": 52,
   "metadata": {},
   "outputs": [
    {
     "data": {
      "image/png": "[encoded data removed]",
      "text/plain": [
       "<Figure size 1440x720 with 1 Axes>"
      ]
     },
     "metadata": {
      "needs_background": "light"
     },
     "output_type": "display_data"
    }
   ],
   "source": [
    "# write your code here\n",
    "plt.figure(figsize=(20,10))\n",
    "import scipy.cluster.hierarchy as sch \n",
    "den = sch.dendrogram(sch.linkage(scaled,method='ward'))"
   ]
  },
  {
   "cell_type": "code",
   "execution_count": 32,
   "metadata": {},
   "outputs": [
    {
     "name": "stdout",
     "output_type": "stream",
     "text": [
      "(1054, 1054)\n",
      "0.7973822617121825\n"
     ]
    }
   ],
   "source": [
    "# write your code here\n",
    "from scipy.cluster.hierarchy import cophenet\n",
    "from sklearn.metrics.pairwise import euclidean_distances\n",
    "\n",
    "distance  = euclidean_distances(scaled)\n",
    "print(distance.shape)\n",
    "actual = distance[np.triu_indices(1054,k = 1)]\n",
    "\n",
    "coeff, cophetant_distance  = cophenet(link_mat,actual)\n",
    "print(coeff)\n",
    "\n"
   ]
  },
  {
   "cell_type": "code",
   "execution_count": 48,
   "metadata": {},
   "outputs": [
    {
     "data": {
      "text/html": [
       "<style>#sk-container-id-2 {color: black;background-color: white;}#sk-container-id-2 pre{padding: 0;}#sk-container-id-2 div.sk-toggleable {background-color: white;}#sk-container-id-2 label.sk-toggleable__label {cursor: pointer;display: block;width: 100%;margin-bottom: 0;padding: 0.3em;box-sizing: border-box;text-align: center;}#sk-container-id-2 label.sk-toggleable__label-arrow:before {content: \"▸\";float: left;margin-right: 0.25em;color: #696969;}#sk-container-id-2 label.sk-toggleable__label-arrow:hover:before {color: black;}#sk-container-id-2 div.sk-estimator:hover label.sk-toggleable__label-arrow:before {color: black;}#sk-container-id-2 div.sk-toggleable__content {max-height: 0;max-width: 0;overflow: hidden;text-align: left;background-color: #f0f8ff;}#sk-container-id-2 div.sk-toggleable__content pre {margin: 0.2em;color: black;border-radius: 0.25em;background-color: #f0f8ff;}#sk-container-id-2 input.sk-toggleable__control:checked~div.sk-toggleable__content {max-height: 200px;max-width: 100%;overflow: auto;}#sk-container-id-2 input.sk-toggleable__control:checked~label.sk-toggleable__label-arrow:before {content: \"▾\";}#sk-container-id-2 div.sk-estimator input.sk-toggleable__control:checked~label.sk-toggleable__label {background-color: #d4ebff;}#sk-container-id-2 div.sk-label input.sk-toggleable__control:checked~label.sk-toggleable__label {background-color: #d4ebff;}#sk-container-id-2 input.sk-hidden--visually {border: 0;clip: rect(1px 1px 1px 1px);clip: rect(1px, 1px, 1px, 1px);height: 1px;margin: -1px;overflow: hidden;padding: 0;position: absolute;width: 1px;}#sk-container-id-2 div.sk-estimator {font-family: monospace;background-color: #f0f8ff;border: 1px dotted black;border-radius: 0.25em;box-sizing: border-box;margin-bottom: 0.5em;}#sk-container-id-2 div.sk-estimator:hover {background-color: #d4ebff;}#sk-container-id-2 div.sk-parallel-item::after {content: \"\";width: 100%;border-bottom: 1px solid gray;flex-grow: 1;}#sk-container-id-2 div.sk-label:hover label.sk-toggleable__label {background-color: #d4ebff;}#sk-container-id-2 div.sk-serial::before {content: \"\";position: absolute;border-left: 1px solid gray;box-sizing: border-box;top: 0;bottom: 0;left: 50%;z-index: 0;}#sk-container-id-2 div.sk-serial {display: flex;flex-direction: column;align-items: center;background-color: white;padding-right: 0.2em;padding-left: 0.2em;position: relative;}#sk-container-id-2 div.sk-item {position: relative;z-index: 1;}#sk-container-id-2 div.sk-parallel {display: flex;align-items: stretch;justify-content: center;background-color: white;position: relative;}#sk-container-id-2 div.sk-item::before, #sk-container-id-2 div.sk-parallel-item::before {content: \"\";position: absolute;border-left: 1px solid gray;box-sizing: border-box;top: 0;bottom: 0;left: 50%;z-index: -1;}#sk-container-id-2 div.sk-parallel-item {display: flex;flex-direction: column;z-index: 1;position: relative;background-color: white;}#sk-container-id-2 div.sk-parallel-item:first-child::after {align-self: flex-end;width: 50%;}#sk-container-id-2 div.sk-parallel-item:last-child::after {align-self: flex-start;width: 50%;}#sk-container-id-2 div.sk-parallel-item:only-child::after {width: 0;}#sk-container-id-2 div.sk-dashed-wrapped {border: 1px dashed gray;margin: 0 0.4em 0.5em 0.4em;box-sizing: border-box;padding-bottom: 0.4em;background-color: white;}#sk-container-id-2 div.sk-label label {font-family: monospace;font-weight: bold;display: inline-block;line-height: 1.2em;}#sk-container-id-2 div.sk-label-container {text-align: center;}#sk-container-id-2 div.sk-container {/* jupyter's `normalize.less` sets `[hidden] { display: none; }` but bootstrap.min.css set `[hidden] { display: none !important; }` so we also need the `!important` here to be able to override the default hidden behavior on the sphinx rendered scikit-learn.org. See: https://github.com/scikit-learn/scikit-learn/issues/21755 */display: inline-block !important;position: relative;}#sk-container-id-2 div.sk-text-repr-fallback {display: none;}</style><div id=\"sk-container-id-2\" class=\"sk-top-container\"><div class=\"sk-text-repr-fallback\"><pre>AgglomerativeClustering()</pre><b>In a Jupyter environment, please rerun this cell to show the HTML representation or trust the notebook. <br />On GitHub, the HTML representation is unable to render, please try loading this page with nbviewer.org.</b></div><div class=\"sk-container\" hidden><div class=\"sk-item\"><div class=\"sk-estimator sk-toggleable\"><input class=\"sk-toggleable__control sk-hidden--visually\" id=\"sk-estimator-id-2\" type=\"checkbox\" checked><label for=\"sk-estimator-id-2\" class=\"sk-toggleable__label sk-toggleable__label-arrow\">AgglomerativeClustering</label><div class=\"sk-toggleable__content\"><pre>AgglomerativeClustering()</pre></div></div></div></div></div>"
      ],
      "text/plain": [
       "AgglomerativeClustering()"
      ]
     },
     "execution_count": 48,
     "metadata": {},
     "output_type": "execute_result"
    }
   ],
   "source": [
    "# write your code here\n",
    "from threading import main_thread\n",
    "from sklearn.cluster import AgglomerativeClustering\n",
    "model=AgglomerativeClustering(n_clusters=2, linkage = 'ward')\n",
    "model.fit(scaled)"
   ]
  },
  {
   "cell_type": "code",
   "execution_count": 49,
   "metadata": {},
   "outputs": [],
   "source": [
    "# write your code here\n",
    "dt['cluster']=model.labels_"
   ]
  },
  {
   "cell_type": "code",
   "execution_count": 50,
   "metadata": {},
   "outputs": [
    {
     "data": {
      "text/plain": [
       "1    820\n",
       "0    234\n",
       "Name: cluster, dtype: int64"
      ]
     },
     "execution_count": 50,
     "metadata": {},
     "output_type": "execute_result"
    }
   ],
   "source": [
    "# write your code here\n",
    "dt.cluster.value_counts()"
   ]
  },
  {
   "cell_type": "code",
   "execution_count": 51,
   "metadata": {},
   "outputs": [
    {
     "data": {
      "image/png": "[encoded data removed]",
      "text/plain": [
       "<Figure size 432x288 with 1 Axes>"
      ]
     },
     "metadata": {
      "needs_background": "light"
     },
     "output_type": "display_data"
    }
   ],
   "source": [
    "# write your code here\n",
    "sns.scatterplot(y='Energy Usage',x='CO2 Emissions',data=dt,hue='cluster')\n",
    "plt.show()"
   ]
  },
  {
   "cell_type": "code",
   "execution_count": 46,
   "metadata": {},
   "outputs": [
    {
     "data": {
      "text/html": [
       "<div>\n",
       "<style scoped>\n",
       "    .dataframe tbody tr th:only-of-type {\n",
       "        vertical-align: middle;\n",
       "    }\n",
       "\n",
       "    .dataframe tbody tr th {\n",
       "        vertical-align: top;\n",
       "    }\n",
       "\n",
       "    .dataframe thead th {\n",
       "        text-align: right;\n",
       "    }\n",
       "</style>\n",
       "<table border=\"1\" class=\"dataframe\">\n",
       "  <thead>\n",
       "    <tr style=\"text-align: right;\">\n",
       "      <th></th>\n",
       "      <th>CO2 Emissions</th>\n",
       "      <th>Energy Usage</th>\n",
       "      <th>GDP</th>\n",
       "      <th>Population Total</th>\n",
       "      <th>cluster</th>\n",
       "    </tr>\n",
       "  </thead>\n",
       "  <tbody>\n",
       "    <tr>\n",
       "      <th>count</th>\n",
       "      <td>10.000000</td>\n",
       "      <td>10.000000</td>\n",
       "      <td>10.000000</td>\n",
       "      <td>10.000000</td>\n",
       "      <td>10.000000</td>\n",
       "    </tr>\n",
       "    <tr>\n",
       "      <th>mean</th>\n",
       "      <td>6078.500000</td>\n",
       "      <td>3528.100000</td>\n",
       "      <td>11200916060.100000</td>\n",
       "      <td>5500119.500000</td>\n",
       "      <td>1.000000</td>\n",
       "    </tr>\n",
       "    <tr>\n",
       "      <th>std</th>\n",
       "      <td>4732.822161</td>\n",
       "      <td>3067.806218</td>\n",
       "      <td>3964798697.702017</td>\n",
       "      <td>5377109.419218</td>\n",
       "      <td>0.000000</td>\n",
       "    </tr>\n",
       "    <tr>\n",
       "      <th>min</th>\n",
       "      <td>3865.000000</td>\n",
       "      <td>1976.000000</td>\n",
       "      <td>5652325082.000000</td>\n",
       "      <td>2856673.000000</td>\n",
       "      <td>1.000000</td>\n",
       "    </tr>\n",
       "    <tr>\n",
       "      <th>25%</th>\n",
       "      <td>4074.250000</td>\n",
       "      <td>2059.500000</td>\n",
       "      <td>8565503388.000000</td>\n",
       "      <td>2919639.250000</td>\n",
       "      <td>1.000000</td>\n",
       "    </tr>\n",
       "    <tr>\n",
       "      <th>50%</th>\n",
       "      <td>4210.000000</td>\n",
       "      <td>2068.000000</td>\n",
       "      <td>11313982557.500000</td>\n",
       "      <td>2980376.000000</td>\n",
       "      <td>1.000000</td>\n",
       "    </tr>\n",
       "    <tr>\n",
       "      <th>75%</th>\n",
       "      <td>4291.250000</td>\n",
       "      <td>2172.000000</td>\n",
       "      <td>12672067742.000000</td>\n",
       "      <td>3028889.000000</td>\n",
       "      <td>1.000000</td>\n",
       "    </tr>\n",
       "    <tr>\n",
       "      <th>max</th>\n",
       "      <td>18793.000000</td>\n",
       "      <td>9676.000000</td>\n",
       "      <td>19640862550.000000</td>\n",
       "      <td>15976715.000000</td>\n",
       "      <td>1.000000</td>\n",
       "    </tr>\n",
       "  </tbody>\n",
       "</table>\n",
       "</div>"
      ],
      "text/plain": [
       "       CO2 Emissions  Energy Usage                GDP  Population Total  \\\n",
       "count      10.000000     10.000000          10.000000         10.000000   \n",
       "mean     6078.500000   3528.100000 11200916060.100000    5500119.500000   \n",
       "std      4732.822161   3067.806218  3964798697.702017    5377109.419218   \n",
       "min      3865.000000   1976.000000  5652325082.000000    2856673.000000   \n",
       "25%      4074.250000   2059.500000  8565503388.000000    2919639.250000   \n",
       "50%      4210.000000   2068.000000 11313982557.500000    2980376.000000   \n",
       "75%      4291.250000   2172.000000 12672067742.000000    3028889.000000   \n",
       "max     18793.000000   9676.000000 19640862550.000000   15976715.000000   \n",
       "\n",
       "        cluster  \n",
       "count 10.000000  \n",
       "mean   1.000000  \n",
       "std    0.000000  \n",
       "min    1.000000  \n",
       "25%    1.000000  \n",
       "50%    1.000000  \n",
       "75%    1.000000  \n",
       "max    1.000000  "
      ]
     },
     "execution_count": 46,
     "metadata": {},
     "output_type": "execute_result"
    }
   ],
   "source": [
    "# write your code here\n",
    "dt.loc[dt.cluster==1].head(10).describe()"
   ]
  },
  {
   "cell_type": "code",
   "execution_count": 53,
   "metadata": {},
   "outputs": [
    {
     "data": {
      "text/html": [
       "<div>\n",
       "<style scoped>\n",
       "    .dataframe tbody tr th:only-of-type {\n",
       "        vertical-align: middle;\n",
       "    }\n",
       "\n",
       "    .dataframe tbody tr th {\n",
       "        vertical-align: top;\n",
       "    }\n",
       "\n",
       "    .dataframe thead th {\n",
       "        text-align: right;\n",
       "    }\n",
       "</style>\n",
       "<table border=\"1\" class=\"dataframe\">\n",
       "  <thead>\n",
       "    <tr style=\"text-align: right;\">\n",
       "      <th></th>\n",
       "      <th>CO2 Emissions</th>\n",
       "      <th>Energy Usage</th>\n",
       "      <th>GDP</th>\n",
       "      <th>Population Total</th>\n",
       "      <th>cluster</th>\n",
       "    </tr>\n",
       "  </thead>\n",
       "  <tbody>\n",
       "    <tr>\n",
       "      <th>count</th>\n",
       "      <td>10.000000</td>\n",
       "      <td>10.000000</td>\n",
       "      <td>10.000000</td>\n",
       "      <td>10.000000</td>\n",
       "      <td>10.000000</td>\n",
       "    </tr>\n",
       "    <tr>\n",
       "      <th>mean</th>\n",
       "      <td>111508.600000</td>\n",
       "      <td>36751.500000</td>\n",
       "      <td>138018883001.799988</td>\n",
       "      <td>35544611.300000</td>\n",
       "      <td>0.000000</td>\n",
       "    </tr>\n",
       "    <tr>\n",
       "      <th>std</th>\n",
       "      <td>13046.295789</td>\n",
       "      <td>4399.762399</td>\n",
       "      <td>46025034621.534073</td>\n",
       "      <td>1861027.721591</td>\n",
       "      <td>0.000000</td>\n",
       "    </tr>\n",
       "    <tr>\n",
       "      <th>min</th>\n",
       "      <td>89493.000000</td>\n",
       "      <td>30698.000000</td>\n",
       "      <td>67863832648.000000</td>\n",
       "      <td>33003442.000000</td>\n",
       "      <td>0.000000</td>\n",
       "    </tr>\n",
       "    <tr>\n",
       "      <th>25%</th>\n",
       "      <td>104754.250000</td>\n",
       "      <td>32915.750000</td>\n",
       "      <td>106500000000.000000</td>\n",
       "      <td>34097480.750000</td>\n",
       "      <td>0.000000</td>\n",
       "    </tr>\n",
       "    <tr>\n",
       "      <th>50%</th>\n",
       "      <td>113479.000000</td>\n",
       "      <td>37109.000000</td>\n",
       "      <td>136000000000.000000</td>\n",
       "      <td>35411210.000000</td>\n",
       "      <td>0.000000</td>\n",
       "    </tr>\n",
       "    <tr>\n",
       "      <th>75%</th>\n",
       "      <td>123475.000000</td>\n",
       "      <td>40643.500000</td>\n",
       "      <td>168500000000.000000</td>\n",
       "      <td>36892940.500000</td>\n",
       "      <td>0.000000</td>\n",
       "    </tr>\n",
       "    <tr>\n",
       "      <th>max</th>\n",
       "      <td>124586.000000</td>\n",
       "      <td>41852.000000</td>\n",
       "      <td>204000000000.000000</td>\n",
       "      <td>38481705.000000</td>\n",
       "      <td>0.000000</td>\n",
       "    </tr>\n",
       "  </tbody>\n",
       "</table>\n",
       "</div>"
      ],
      "text/plain": [
       "       CO2 Emissions  Energy Usage                 GDP  Population Total  \\\n",
       "count      10.000000     10.000000           10.000000         10.000000   \n",
       "mean   111508.600000  36751.500000 138018883001.799988   35544611.300000   \n",
       "std     13046.295789   4399.762399  46025034621.534073    1861027.721591   \n",
       "min     89493.000000  30698.000000  67863832648.000000   33003442.000000   \n",
       "25%    104754.250000  32915.750000 106500000000.000000   34097480.750000   \n",
       "50%    113479.000000  37109.000000 136000000000.000000   35411210.000000   \n",
       "75%    123475.000000  40643.500000 168500000000.000000   36892940.500000   \n",
       "max    124586.000000  41852.000000 204000000000.000000   38481705.000000   \n",
       "\n",
       "        cluster  \n",
       "count 10.000000  \n",
       "mean   0.000000  \n",
       "std    0.000000  \n",
       "min    0.000000  \n",
       "25%    0.000000  \n",
       "50%    0.000000  \n",
       "75%    0.000000  \n",
       "max    0.000000  "
      ]
     },
     "execution_count": 53,
     "metadata": {},
     "output_type": "execute_result"
    }
   ],
   "source": [
    "# write your code here\n",
    "dt.loc[dt.cluster==0].head(10).describe()"
   ]
  },
  {
   "cell_type": "code",
   "execution_count": 54,
   "metadata": {},
   "outputs": [],
   "source": [
    "# write your code here\n",
    "from sklearn.cluster import DBSCAN"
   ]
  },
  {
   "cell_type": "code",
   "execution_count": 65,
   "metadata": {},
   "outputs": [
    {
     "data": {
      "text/plain": [
       " 0    954\n",
       "-1     82\n",
       " 1     10\n",
       " 2      8\n",
       "dtype: int64"
      ]
     },
     "execution_count": 65,
     "metadata": {},
     "output_type": "execute_result"
    }
   ],
   "source": [
    "db = DBSCAN(eps=0.7,min_samples=8)\n",
    "db.fit(scaled)\n",
    "labels = db.labels_\n",
    "clus = pd.DataFrame(labels)\n",
    "clus.value_counts()"
   ]
  },
  {
   "cell_type": "code",
   "execution_count": 66,
   "metadata": {},
   "outputs": [
    {
     "data": {
      "text/html": [
       "<div>\n",
       "<style scoped>\n",
       "    .dataframe tbody tr th:only-of-type {\n",
       "        vertical-align: middle;\n",
       "    }\n",
       "\n",
       "    .dataframe tbody tr th {\n",
       "        vertical-align: top;\n",
       "    }\n",
       "\n",
       "    .dataframe thead th {\n",
       "        text-align: right;\n",
       "    }\n",
       "</style>\n",
       "<table border=\"1\" class=\"dataframe\">\n",
       "  <thead>\n",
       "    <tr style=\"text-align: right;\">\n",
       "      <th></th>\n",
       "      <th>CO2 Emissions</th>\n",
       "      <th>Energy Usage</th>\n",
       "      <th>GDP</th>\n",
       "      <th>Population Total</th>\n",
       "      <th>cluster</th>\n",
       "      <th>dbclus</th>\n",
       "    </tr>\n",
       "  </thead>\n",
       "  <tbody>\n",
       "    <tr>\n",
       "      <th>0</th>\n",
       "      <td>4294</td>\n",
       "      <td>1976</td>\n",
       "      <td>5652325082.000000</td>\n",
       "      <td>3033659</td>\n",
       "      <td>1</td>\n",
       "      <td>0</td>\n",
       "    </tr>\n",
       "    <tr>\n",
       "      <th>1</th>\n",
       "      <td>4166</td>\n",
       "      <td>2172</td>\n",
       "      <td>7464446950.000000</td>\n",
       "      <td>3014579</td>\n",
       "      <td>1</td>\n",
       "      <td>0</td>\n",
       "    </tr>\n",
       "    <tr>\n",
       "      <th>2</th>\n",
       "      <td>4254</td>\n",
       "      <td>2172</td>\n",
       "      <td>8376483740.000000</td>\n",
       "      <td>2992724</td>\n",
       "      <td>1</td>\n",
       "      <td>0</td>\n",
       "    </tr>\n",
       "    <tr>\n",
       "      <th>3</th>\n",
       "      <td>3865</td>\n",
       "      <td>2068</td>\n",
       "      <td>9132562332.000000</td>\n",
       "      <td>2968028</td>\n",
       "      <td>1</td>\n",
       "      <td>0</td>\n",
       "    </tr>\n",
       "    <tr>\n",
       "      <th>4</th>\n",
       "      <td>4056</td>\n",
       "      <td>2025</td>\n",
       "      <td>10701011856.000000</td>\n",
       "      <td>2940880</td>\n",
       "      <td>1</td>\n",
       "      <td>0</td>\n",
       "    </tr>\n",
       "  </tbody>\n",
       "</table>\n",
       "</div>"
      ],
      "text/plain": [
       "   CO2 Emissions  Energy Usage                GDP  Population Total  cluster  \\\n",
       "0           4294          1976  5652325082.000000           3033659        1   \n",
       "1           4166          2172  7464446950.000000           3014579        1   \n",
       "2           4254          2172  8376483740.000000           2992724        1   \n",
       "3           3865          2068  9132562332.000000           2968028        1   \n",
       "4           4056          2025 10701011856.000000           2940880        1   \n",
       "\n",
       "   dbclus  \n",
       "0       0  \n",
       "1       0  \n",
       "2       0  \n",
       "3       0  \n",
       "4       0  "
      ]
     },
     "execution_count": 66,
     "metadata": {},
     "output_type": "execute_result"
    }
   ],
   "source": [
    "# write your code here\n",
    "dt['dbclus'] = db.labels_\n",
    "dt.head()\n"
   ]
  },
  {
   "cell_type": "code",
   "execution_count": 67,
   "metadata": {},
   "outputs": [
    {
     "data": {
      "text/plain": [
       "CO2 Emissions  Energy Usage  GDP                  Population Total  cluster  dbclus\n",
       "48             31            437072934.000000     214654            1        0         1\n",
       "19156          9356          28233699240.000000   16544376          1        0         1\n",
       "16835          5271          20955223881.000000   3853582           1        0         1\n",
       "17180          7740          54554616826.000000   2021316           1        0         1\n",
       "17492          5440          23781549758.000000   1337090           1        0         1\n",
       "                                                                                      ..\n",
       "3579           1455          8493167843.000000    2110791           1        0         1\n",
       "3645           2095          3576615240.000000    3025652           1        0         1\n",
       "3696           6981          16587921221.000000   18137734          1        0         1\n",
       "3755           10218         15994094607.000000   26846016          1        0         1\n",
       "124586         40823         137000000000.000000  36383302          0        0         1\n",
       "Length: 954, dtype: int64"
      ]
     },
     "execution_count": 67,
     "metadata": {},
     "output_type": "execute_result"
    }
   ],
   "source": [
    "dt[dt['dbclus'] == 0].value_counts()"
   ]
  },
  {
   "cell_type": "code",
   "execution_count": 68,
   "metadata": {},
   "outputs": [
    {
     "data": {
      "text/plain": [
       "<bound method NDFrame.describe of       CO2 Emissions  Energy Usage                 GDP  Population Total  \\\n",
       "39           141077         60954 344000000000.000000          36903067   \n",
       "40           132632         57835 325000000000.000000          37273361   \n",
       "42           133127         59047 157000000000.000000          37970411   \n",
       "44           160952         66973 223000000000.000000          38647854   \n",
       "45           174238         73128 264000000000.000000          38988923   \n",
       "...             ...           ...                 ...               ...   \n",
       "1227         102456         42475  66371664817.000000          83313000   \n",
       "1228         113651         45777  77414425532.000000          84221100   \n",
       "1229         127164         48984  99130304099.000000          85122300   \n",
       "1230         140057         53450 106000000000.000000          86025000   \n",
       "1231         150230         58912 116000000000.000000          86932500   \n",
       "\n",
       "      cluster  dbclus  \n",
       "39          0      -1  \n",
       "40          0      -1  \n",
       "42          0      -1  \n",
       "44          0      -1  \n",
       "45          0      -1  \n",
       "...       ...     ...  \n",
       "1227        0      -1  \n",
       "1228        0      -1  \n",
       "1229        0      -1  \n",
       "1230        0      -1  \n",
       "1231        0      -1  \n",
       "\n",
       "[82 rows x 6 columns]>"
      ]
     },
     "execution_count": 68,
     "metadata": {},
     "output_type": "execute_result"
    }
   ],
   "source": [
    "# write your code here\n",
    "dt[dt['dbclus'] == -1].describe"
   ]
  }
 ],
 "metadata": {
  "kernelspec": {
   "display_name": "Python 3 (ipykernel)",
   "language": "python",
   "name": "python3"
  },
  "language_info": {
   "codemirror_mode": {
    "name": "ipython",
    "version": 3
   },
   "file_extension": ".py",
   "mimetype": "text/x-python",
   "name": "python",
   "nbconvert_exporter": "python",
   "pygments_lexer": "ipython3",
   "version": "3.9.12"
  },
  "vscode": {
   "interpreter": {
    "hash": "5ae58900cfbb8c43ab3495913814b7cf26024f51651a94ce8bf64d6111688e8d"
   }
  }
 },
 "nbformat": 4,
 "nbformat_minor": 2
}
